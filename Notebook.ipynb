{
 "cells": [
  {
   "cell_type": "markdown",
   "id": "64880716",
   "metadata": {},
   "source": [
    "# Inference chalenge- depression and healthy habits"
   ]
  },
  {
   "cell_type": "markdown",
   "id": "a5de55fc",
   "metadata": {},
   "source": [
    "### 1 - Data Wrangling"
   ]
  },
  {
   "cell_type": "code",
   "execution_count": 1,
   "id": "df8484a0",
   "metadata": {},
   "outputs": [],
   "source": [
    "#Importing all needed the libraries\n",
    "import pandas as pd\n",
    "import matplotlib.pyplot as plt\n",
    "import seaborn as sns\n",
    "import numpy as np\n",
    "from scipy.stats import f_oneway, ttest_ind\n",
    "from statsmodels.stats.multicomp import pairwise_tukeyhsd\n",
    "# Hidding warnings\n",
    "import warnings\n",
    "warnings.filterwarnings(\"ignore\")"
   ]
  },
  {
   "cell_type": "code",
   "execution_count": 2,
   "id": "9c2402de",
   "metadata": {},
   "outputs": [
    {
     "data": {
      "text/html": [
       "<div>\n",
       "<style scoped>\n",
       "    .dataframe tbody tr th:only-of-type {\n",
       "        vertical-align: middle;\n",
       "    }\n",
       "\n",
       "    .dataframe tbody tr th {\n",
       "        vertical-align: top;\n",
       "    }\n",
       "\n",
       "    .dataframe thead th {\n",
       "        text-align: right;\n",
       "    }\n",
       "</style>\n",
       "<table border=\"1\" class=\"dataframe\">\n",
       "  <thead>\n",
       "    <tr style=\"text-align: right;\">\n",
       "      <th></th>\n",
       "      <th>SEQN</th>\n",
       "      <th>DPQ010</th>\n",
       "      <th>DPQ020</th>\n",
       "      <th>DPQ030</th>\n",
       "      <th>DPQ040</th>\n",
       "      <th>DPQ050</th>\n",
       "      <th>DPQ060</th>\n",
       "      <th>DPQ070</th>\n",
       "      <th>DPQ080</th>\n",
       "      <th>DPQ090</th>\n",
       "      <th>RIAGENDR</th>\n",
       "      <th>RIDAGEYR</th>\n",
       "      <th>RIDRETH1</th>\n",
       "      <th>DMDEDUC</th>\n",
       "      <th>INDFMINC</th>\n",
       "    </tr>\n",
       "  </thead>\n",
       "  <tbody>\n",
       "    <tr>\n",
       "      <th>0</th>\n",
       "      <td>31130</td>\n",
       "      <td>NaN</td>\n",
       "      <td>NaN</td>\n",
       "      <td>NaN</td>\n",
       "      <td>NaN</td>\n",
       "      <td>NaN</td>\n",
       "      <td>NaN</td>\n",
       "      <td>NaN</td>\n",
       "      <td>NaN</td>\n",
       "      <td>NaN</td>\n",
       "      <td>2</td>\n",
       "      <td>85</td>\n",
       "      <td>3</td>\n",
       "      <td>4</td>\n",
       "      <td>4.0</td>\n",
       "    </tr>\n",
       "    <tr>\n",
       "      <th>1</th>\n",
       "      <td>31131</td>\n",
       "      <td>0.0</td>\n",
       "      <td>0.0</td>\n",
       "      <td>0.0</td>\n",
       "      <td>0.0</td>\n",
       "      <td>0.0</td>\n",
       "      <td>0.0</td>\n",
       "      <td>0.0</td>\n",
       "      <td>0.0</td>\n",
       "      <td>0.0</td>\n",
       "      <td>2</td>\n",
       "      <td>44</td>\n",
       "      <td>4</td>\n",
       "      <td>4</td>\n",
       "      <td>11.0</td>\n",
       "    </tr>\n",
       "    <tr>\n",
       "      <th>2</th>\n",
       "      <td>31132</td>\n",
       "      <td>0.0</td>\n",
       "      <td>0.0</td>\n",
       "      <td>0.0</td>\n",
       "      <td>0.0</td>\n",
       "      <td>0.0</td>\n",
       "      <td>0.0</td>\n",
       "      <td>0.0</td>\n",
       "      <td>0.0</td>\n",
       "      <td>0.0</td>\n",
       "      <td>1</td>\n",
       "      <td>70</td>\n",
       "      <td>3</td>\n",
       "      <td>5</td>\n",
       "      <td>11.0</td>\n",
       "    </tr>\n",
       "    <tr>\n",
       "      <th>3</th>\n",
       "      <td>31134</td>\n",
       "      <td>0.0</td>\n",
       "      <td>0.0</td>\n",
       "      <td>0.0</td>\n",
       "      <td>0.0</td>\n",
       "      <td>0.0</td>\n",
       "      <td>0.0</td>\n",
       "      <td>0.0</td>\n",
       "      <td>0.0</td>\n",
       "      <td>0.0</td>\n",
       "      <td>1</td>\n",
       "      <td>73</td>\n",
       "      <td>3</td>\n",
       "      <td>3</td>\n",
       "      <td>12.0</td>\n",
       "    </tr>\n",
       "    <tr>\n",
       "      <th>4</th>\n",
       "      <td>31139</td>\n",
       "      <td>0.0</td>\n",
       "      <td>0.0</td>\n",
       "      <td>0.0</td>\n",
       "      <td>0.0</td>\n",
       "      <td>3.0</td>\n",
       "      <td>1.0</td>\n",
       "      <td>0.0</td>\n",
       "      <td>0.0</td>\n",
       "      <td>0.0</td>\n",
       "      <td>2</td>\n",
       "      <td>18</td>\n",
       "      <td>2</td>\n",
       "      <td>3</td>\n",
       "      <td>11.0</td>\n",
       "    </tr>\n",
       "  </tbody>\n",
       "</table>\n",
       "</div>"
      ],
      "text/plain": [
       "    SEQN  DPQ010  DPQ020  DPQ030  DPQ040  DPQ050  DPQ060  DPQ070  DPQ080  \\\n",
       "0  31130     NaN     NaN     NaN     NaN     NaN     NaN     NaN     NaN   \n",
       "1  31131     0.0     0.0     0.0     0.0     0.0     0.0     0.0     0.0   \n",
       "2  31132     0.0     0.0     0.0     0.0     0.0     0.0     0.0     0.0   \n",
       "3  31134     0.0     0.0     0.0     0.0     0.0     0.0     0.0     0.0   \n",
       "4  31139     0.0     0.0     0.0     0.0     3.0     1.0     0.0     0.0   \n",
       "\n",
       "   DPQ090  RIAGENDR  RIDAGEYR  RIDRETH1  DMDEDUC  INDFMINC  \n",
       "0     NaN         2        85         3        4       4.0  \n",
       "1     0.0         2        44         4        4      11.0  \n",
       "2     0.0         1        70         3        5      11.0  \n",
       "3     0.0         1        73         3        3      12.0  \n",
       "4     0.0         2        18         2        3      11.0  "
      ]
     },
     "execution_count": 2,
     "metadata": {},
     "output_type": "execute_result"
    }
   ],
   "source": [
    "#Importing and reading the database related to adults survey on NHANES 2005-2006\n",
    "demo = pd.read_csv('data/DEMO_PHQ.csv')\n",
    "demo.head()"
   ]
  },
  {
   "cell_type": "code",
   "execution_count": 3,
   "id": "edc478c1",
   "metadata": {},
   "outputs": [
    {
     "name": "stdout",
     "output_type": "stream",
     "text": [
      "<class 'pandas.core.frame.DataFrame'>\n",
      "RangeIndex: 5334 entries, 0 to 5333\n",
      "Data columns (total 15 columns):\n",
      " #   Column    Non-Null Count  Dtype  \n",
      "---  ------    --------------  -----  \n",
      " 0   SEQN      5334 non-null   int64  \n",
      " 1   DPQ010    4836 non-null   float64\n",
      " 2   DPQ020    4836 non-null   float64\n",
      " 3   DPQ030    4836 non-null   float64\n",
      " 4   DPQ040    4836 non-null   float64\n",
      " 5   DPQ050    4836 non-null   float64\n",
      " 6   DPQ060    4836 non-null   float64\n",
      " 7   DPQ070    4836 non-null   float64\n",
      " 8   DPQ080    4836 non-null   float64\n",
      " 9   DPQ090    4836 non-null   float64\n",
      " 10  RIAGENDR  5334 non-null   int64  \n",
      " 11  RIDAGEYR  5334 non-null   int64  \n",
      " 12  RIDRETH1  5334 non-null   int64  \n",
      " 13  DMDEDUC   5334 non-null   int64  \n",
      " 14  INDFMINC  5287 non-null   float64\n",
      "dtypes: float64(10), int64(5)\n",
      "memory usage: 625.2 KB\n"
     ]
    }
   ],
   "source": [
    "# Reading info about the database as variables dtypes, null values and entries\n",
    "demo.info()"
   ]
  },
  {
   "cell_type": "code",
   "execution_count": 4,
   "id": "0fc53f5e",
   "metadata": {},
   "outputs": [
    {
     "data": {
      "text/html": [
       "<div>\n",
       "<style scoped>\n",
       "    .dataframe tbody tr th:only-of-type {\n",
       "        vertical-align: middle;\n",
       "    }\n",
       "\n",
       "    .dataframe tbody tr th {\n",
       "        vertical-align: top;\n",
       "    }\n",
       "\n",
       "    .dataframe thead th {\n",
       "        text-align: right;\n",
       "    }\n",
       "</style>\n",
       "<table border=\"1\" class=\"dataframe\">\n",
       "  <thead>\n",
       "    <tr style=\"text-align: right;\">\n",
       "      <th></th>\n",
       "      <th>SEQN</th>\n",
       "      <th>PAG_MINW</th>\n",
       "      <th>ADHERENCE</th>\n",
       "      <th>HEI2015C1_TOTALVEG</th>\n",
       "      <th>HEI2015C2_GREEN_AND_BEAN</th>\n",
       "      <th>HEI2015C3_TOTALFRUIT</th>\n",
       "      <th>HEI2015C4_WHOLEFRUIT</th>\n",
       "      <th>HEI2015C5_WHOLEGRAIN</th>\n",
       "      <th>HEI2015C6_TOTALDAIRY</th>\n",
       "      <th>HEI2015C7_TOTPROT</th>\n",
       "      <th>HEI2015C8_SEAPLANT_PROT</th>\n",
       "      <th>HEI2015C9_FATTYACID</th>\n",
       "      <th>HEI2015C10_SODIUM</th>\n",
       "      <th>HEI2015C11_REFINEDGRAIN</th>\n",
       "      <th>HEI2015C12_SFAT</th>\n",
       "      <th>HEI2015C13_ADDSUG</th>\n",
       "      <th>HEI2015_TOTAL_SCORE</th>\n",
       "    </tr>\n",
       "  </thead>\n",
       "  <tbody>\n",
       "    <tr>\n",
       "      <th>0</th>\n",
       "      <td>31128</td>\n",
       "      <td>NaN</td>\n",
       "      <td>NaN</td>\n",
       "      <td>3.083350</td>\n",
       "      <td>0.0</td>\n",
       "      <td>3.927008</td>\n",
       "      <td>5.000000</td>\n",
       "      <td>0.000000</td>\n",
       "      <td>5.000000</td>\n",
       "      <td>4.251329</td>\n",
       "      <td>0.000000</td>\n",
       "      <td>2.487572</td>\n",
       "      <td>6.911882</td>\n",
       "      <td>10.000000</td>\n",
       "      <td>0.818029</td>\n",
       "      <td>6.408092</td>\n",
       "      <td>47.887262</td>\n",
       "    </tr>\n",
       "    <tr>\n",
       "      <th>1</th>\n",
       "      <td>31129</td>\n",
       "      <td>285.450346</td>\n",
       "      <td>2.0</td>\n",
       "      <td>1.697761</td>\n",
       "      <td>0.0</td>\n",
       "      <td>3.731602</td>\n",
       "      <td>4.929186</td>\n",
       "      <td>0.527631</td>\n",
       "      <td>3.887809</td>\n",
       "      <td>4.693141</td>\n",
       "      <td>0.928562</td>\n",
       "      <td>3.740758</td>\n",
       "      <td>6.146441</td>\n",
       "      <td>7.274979</td>\n",
       "      <td>8.006457</td>\n",
       "      <td>0.000000</td>\n",
       "      <td>45.564326</td>\n",
       "    </tr>\n",
       "    <tr>\n",
       "      <th>2</th>\n",
       "      <td>31130</td>\n",
       "      <td>0.000000</td>\n",
       "      <td>1.0</td>\n",
       "      <td>NaN</td>\n",
       "      <td>NaN</td>\n",
       "      <td>NaN</td>\n",
       "      <td>NaN</td>\n",
       "      <td>NaN</td>\n",
       "      <td>NaN</td>\n",
       "      <td>NaN</td>\n",
       "      <td>NaN</td>\n",
       "      <td>NaN</td>\n",
       "      <td>NaN</td>\n",
       "      <td>NaN</td>\n",
       "      <td>NaN</td>\n",
       "      <td>NaN</td>\n",
       "      <td>NaN</td>\n",
       "    </tr>\n",
       "    <tr>\n",
       "      <th>3</th>\n",
       "      <td>31131</td>\n",
       "      <td>264.711316</td>\n",
       "      <td>2.0</td>\n",
       "      <td>3.115103</td>\n",
       "      <td>0.0</td>\n",
       "      <td>5.000000</td>\n",
       "      <td>1.320674</td>\n",
       "      <td>0.000000</td>\n",
       "      <td>3.141062</td>\n",
       "      <td>4.071959</td>\n",
       "      <td>2.052399</td>\n",
       "      <td>0.684985</td>\n",
       "      <td>2.297100</td>\n",
       "      <td>9.512964</td>\n",
       "      <td>0.438428</td>\n",
       "      <td>3.919226</td>\n",
       "      <td>35.553899</td>\n",
       "    </tr>\n",
       "    <tr>\n",
       "      <th>4</th>\n",
       "      <td>31132</td>\n",
       "      <td>1353.348730</td>\n",
       "      <td>3.0</td>\n",
       "      <td>3.509081</td>\n",
       "      <td>0.0</td>\n",
       "      <td>5.000000</td>\n",
       "      <td>5.000000</td>\n",
       "      <td>5.000000</td>\n",
       "      <td>4.448512</td>\n",
       "      <td>5.000000</td>\n",
       "      <td>0.000000</td>\n",
       "      <td>2.050769</td>\n",
       "      <td>7.369489</td>\n",
       "      <td>8.887880</td>\n",
       "      <td>8.186877</td>\n",
       "      <td>9.099088</td>\n",
       "      <td>63.551696</td>\n",
       "    </tr>\n",
       "  </tbody>\n",
       "</table>\n",
       "</div>"
      ],
      "text/plain": [
       "    SEQN     PAG_MINW  ADHERENCE  HEI2015C1_TOTALVEG  \\\n",
       "0  31128          NaN        NaN            3.083350   \n",
       "1  31129   285.450346        2.0            1.697761   \n",
       "2  31130     0.000000        1.0                 NaN   \n",
       "3  31131   264.711316        2.0            3.115103   \n",
       "4  31132  1353.348730        3.0            3.509081   \n",
       "\n",
       "   HEI2015C2_GREEN_AND_BEAN  HEI2015C3_TOTALFRUIT  HEI2015C4_WHOLEFRUIT  \\\n",
       "0                       0.0              3.927008              5.000000   \n",
       "1                       0.0              3.731602              4.929186   \n",
       "2                       NaN                   NaN                   NaN   \n",
       "3                       0.0              5.000000              1.320674   \n",
       "4                       0.0              5.000000              5.000000   \n",
       "\n",
       "   HEI2015C5_WHOLEGRAIN  HEI2015C6_TOTALDAIRY  HEI2015C7_TOTPROT  \\\n",
       "0              0.000000              5.000000           4.251329   \n",
       "1              0.527631              3.887809           4.693141   \n",
       "2                   NaN                   NaN                NaN   \n",
       "3              0.000000              3.141062           4.071959   \n",
       "4              5.000000              4.448512           5.000000   \n",
       "\n",
       "   HEI2015C8_SEAPLANT_PROT  HEI2015C9_FATTYACID  HEI2015C10_SODIUM  \\\n",
       "0                 0.000000             2.487572           6.911882   \n",
       "1                 0.928562             3.740758           6.146441   \n",
       "2                      NaN                  NaN                NaN   \n",
       "3                 2.052399             0.684985           2.297100   \n",
       "4                 0.000000             2.050769           7.369489   \n",
       "\n",
       "   HEI2015C11_REFINEDGRAIN  HEI2015C12_SFAT  HEI2015C13_ADDSUG  \\\n",
       "0                10.000000         0.818029           6.408092   \n",
       "1                 7.274979         8.006457           0.000000   \n",
       "2                      NaN              NaN                NaN   \n",
       "3                 9.512964         0.438428           3.919226   \n",
       "4                 8.887880         8.186877           9.099088   \n",
       "\n",
       "   HEI2015_TOTAL_SCORE  \n",
       "0            47.887262  \n",
       "1            45.564326  \n",
       "2                  NaN  \n",
       "3            35.553899  \n",
       "4            63.551696  "
      ]
     },
     "execution_count": 4,
     "metadata": {},
     "output_type": "execute_result"
    }
   ],
   "source": [
    "#Importing and reading the database related to adults and children survey on NHANES 2005-2006\n",
    "pag_hei = pd.read_csv('data/PAG_HEI.csv')\n",
    "pag_hei.head()"
   ]
  },
  {
   "cell_type": "code",
   "execution_count": 5,
   "id": "98ccc16c",
   "metadata": {},
   "outputs": [
    {
     "name": "stdout",
     "output_type": "stream",
     "text": [
      "<class 'pandas.core.frame.DataFrame'>\n",
      "RangeIndex: 9424 entries, 0 to 9423\n",
      "Data columns (total 17 columns):\n",
      " #   Column                    Non-Null Count  Dtype  \n",
      "---  ------                    --------------  -----  \n",
      " 0   SEQN                      9424 non-null   int64  \n",
      " 1   PAG_MINW                  7150 non-null   float64\n",
      " 2   ADHERENCE                 7150 non-null   float64\n",
      " 3   HEI2015C1_TOTALVEG        8549 non-null   float64\n",
      " 4   HEI2015C2_GREEN_AND_BEAN  8549 non-null   float64\n",
      " 5   HEI2015C3_TOTALFRUIT      8549 non-null   float64\n",
      " 6   HEI2015C4_WHOLEFRUIT      8549 non-null   float64\n",
      " 7   HEI2015C5_WHOLEGRAIN      8549 non-null   float64\n",
      " 8   HEI2015C6_TOTALDAIRY      8549 non-null   float64\n",
      " 9   HEI2015C7_TOTPROT         8549 non-null   float64\n",
      " 10  HEI2015C8_SEAPLANT_PROT   8549 non-null   float64\n",
      " 11  HEI2015C9_FATTYACID       8549 non-null   float64\n",
      " 12  HEI2015C10_SODIUM         8549 non-null   float64\n",
      " 13  HEI2015C11_REFINEDGRAIN   8549 non-null   float64\n",
      " 14  HEI2015C12_SFAT           8549 non-null   float64\n",
      " 15  HEI2015C13_ADDSUG         8549 non-null   float64\n",
      " 16  HEI2015_TOTAL_SCORE       8549 non-null   float64\n",
      "dtypes: float64(16), int64(1)\n",
      "memory usage: 1.2 MB\n"
     ]
    }
   ],
   "source": [
    "# Reading info about the database as variables dtypes, null values and entries\n",
    "pag_hei.info()"
   ]
  },
  {
   "cell_type": "code",
   "execution_count": 6,
   "id": "f72eef5b",
   "metadata": {},
   "outputs": [
    {
     "data": {
      "text/html": [
       "<div>\n",
       "<style scoped>\n",
       "    .dataframe tbody tr th:only-of-type {\n",
       "        vertical-align: middle;\n",
       "    }\n",
       "\n",
       "    .dataframe tbody tr th {\n",
       "        vertical-align: top;\n",
       "    }\n",
       "\n",
       "    .dataframe thead th {\n",
       "        text-align: right;\n",
       "    }\n",
       "</style>\n",
       "<table border=\"1\" class=\"dataframe\">\n",
       "  <thead>\n",
       "    <tr style=\"text-align: right;\">\n",
       "      <th></th>\n",
       "      <th>SEQN</th>\n",
       "      <th>DPQ010</th>\n",
       "      <th>DPQ020</th>\n",
       "      <th>DPQ030</th>\n",
       "      <th>DPQ040</th>\n",
       "      <th>DPQ050</th>\n",
       "      <th>DPQ060</th>\n",
       "      <th>DPQ070</th>\n",
       "      <th>DPQ080</th>\n",
       "      <th>DPQ090</th>\n",
       "      <th>...</th>\n",
       "      <th>HEI2015C5_WHOLEGRAIN</th>\n",
       "      <th>HEI2015C6_TOTALDAIRY</th>\n",
       "      <th>HEI2015C7_TOTPROT</th>\n",
       "      <th>HEI2015C8_SEAPLANT_PROT</th>\n",
       "      <th>HEI2015C9_FATTYACID</th>\n",
       "      <th>HEI2015C10_SODIUM</th>\n",
       "      <th>HEI2015C11_REFINEDGRAIN</th>\n",
       "      <th>HEI2015C12_SFAT</th>\n",
       "      <th>HEI2015C13_ADDSUG</th>\n",
       "      <th>HEI2015_TOTAL_SCORE</th>\n",
       "    </tr>\n",
       "  </thead>\n",
       "  <tbody>\n",
       "    <tr>\n",
       "      <th>0</th>\n",
       "      <td>31130</td>\n",
       "      <td>NaN</td>\n",
       "      <td>NaN</td>\n",
       "      <td>NaN</td>\n",
       "      <td>NaN</td>\n",
       "      <td>NaN</td>\n",
       "      <td>NaN</td>\n",
       "      <td>NaN</td>\n",
       "      <td>NaN</td>\n",
       "      <td>NaN</td>\n",
       "      <td>...</td>\n",
       "      <td>NaN</td>\n",
       "      <td>NaN</td>\n",
       "      <td>NaN</td>\n",
       "      <td>NaN</td>\n",
       "      <td>NaN</td>\n",
       "      <td>NaN</td>\n",
       "      <td>NaN</td>\n",
       "      <td>NaN</td>\n",
       "      <td>NaN</td>\n",
       "      <td>NaN</td>\n",
       "    </tr>\n",
       "    <tr>\n",
       "      <th>1</th>\n",
       "      <td>31131</td>\n",
       "      <td>0.0</td>\n",
       "      <td>0.0</td>\n",
       "      <td>0.0</td>\n",
       "      <td>0.0</td>\n",
       "      <td>0.0</td>\n",
       "      <td>0.0</td>\n",
       "      <td>0.0</td>\n",
       "      <td>0.0</td>\n",
       "      <td>0.0</td>\n",
       "      <td>...</td>\n",
       "      <td>0.000000</td>\n",
       "      <td>3.141062</td>\n",
       "      <td>4.071959</td>\n",
       "      <td>2.052399</td>\n",
       "      <td>0.684985</td>\n",
       "      <td>2.297100</td>\n",
       "      <td>9.512964</td>\n",
       "      <td>0.438428</td>\n",
       "      <td>3.919226</td>\n",
       "      <td>35.553899</td>\n",
       "    </tr>\n",
       "    <tr>\n",
       "      <th>2</th>\n",
       "      <td>31132</td>\n",
       "      <td>0.0</td>\n",
       "      <td>0.0</td>\n",
       "      <td>0.0</td>\n",
       "      <td>0.0</td>\n",
       "      <td>0.0</td>\n",
       "      <td>0.0</td>\n",
       "      <td>0.0</td>\n",
       "      <td>0.0</td>\n",
       "      <td>0.0</td>\n",
       "      <td>...</td>\n",
       "      <td>5.000000</td>\n",
       "      <td>4.448512</td>\n",
       "      <td>5.000000</td>\n",
       "      <td>0.000000</td>\n",
       "      <td>2.050769</td>\n",
       "      <td>7.369489</td>\n",
       "      <td>8.887880</td>\n",
       "      <td>8.186877</td>\n",
       "      <td>9.099088</td>\n",
       "      <td>63.551696</td>\n",
       "    </tr>\n",
       "    <tr>\n",
       "      <th>3</th>\n",
       "      <td>31134</td>\n",
       "      <td>0.0</td>\n",
       "      <td>0.0</td>\n",
       "      <td>0.0</td>\n",
       "      <td>0.0</td>\n",
       "      <td>0.0</td>\n",
       "      <td>0.0</td>\n",
       "      <td>0.0</td>\n",
       "      <td>0.0</td>\n",
       "      <td>0.0</td>\n",
       "      <td>...</td>\n",
       "      <td>2.217331</td>\n",
       "      <td>2.313900</td>\n",
       "      <td>5.000000</td>\n",
       "      <td>1.268648</td>\n",
       "      <td>2.958985</td>\n",
       "      <td>0.000000</td>\n",
       "      <td>5.627488</td>\n",
       "      <td>5.863078</td>\n",
       "      <td>5.878686</td>\n",
       "      <td>42.886826</td>\n",
       "    </tr>\n",
       "    <tr>\n",
       "      <th>4</th>\n",
       "      <td>31139</td>\n",
       "      <td>0.0</td>\n",
       "      <td>0.0</td>\n",
       "      <td>0.0</td>\n",
       "      <td>0.0</td>\n",
       "      <td>3.0</td>\n",
       "      <td>1.0</td>\n",
       "      <td>0.0</td>\n",
       "      <td>0.0</td>\n",
       "      <td>0.0</td>\n",
       "      <td>...</td>\n",
       "      <td>0.211544</td>\n",
       "      <td>0.000000</td>\n",
       "      <td>4.088849</td>\n",
       "      <td>4.221442</td>\n",
       "      <td>10.000000</td>\n",
       "      <td>2.845774</td>\n",
       "      <td>0.000000</td>\n",
       "      <td>10.000000</td>\n",
       "      <td>9.658507</td>\n",
       "      <td>47.074393</td>\n",
       "    </tr>\n",
       "  </tbody>\n",
       "</table>\n",
       "<p>5 rows × 31 columns</p>\n",
       "</div>"
      ],
      "text/plain": [
       "    SEQN  DPQ010  DPQ020  DPQ030  DPQ040  DPQ050  DPQ060  DPQ070  DPQ080  \\\n",
       "0  31130     NaN     NaN     NaN     NaN     NaN     NaN     NaN     NaN   \n",
       "1  31131     0.0     0.0     0.0     0.0     0.0     0.0     0.0     0.0   \n",
       "2  31132     0.0     0.0     0.0     0.0     0.0     0.0     0.0     0.0   \n",
       "3  31134     0.0     0.0     0.0     0.0     0.0     0.0     0.0     0.0   \n",
       "4  31139     0.0     0.0     0.0     0.0     3.0     1.0     0.0     0.0   \n",
       "\n",
       "   DPQ090  ...  HEI2015C5_WHOLEGRAIN  HEI2015C6_TOTALDAIRY  HEI2015C7_TOTPROT  \\\n",
       "0     NaN  ...                   NaN                   NaN                NaN   \n",
       "1     0.0  ...              0.000000              3.141062           4.071959   \n",
       "2     0.0  ...              5.000000              4.448512           5.000000   \n",
       "3     0.0  ...              2.217331              2.313900           5.000000   \n",
       "4     0.0  ...              0.211544              0.000000           4.088849   \n",
       "\n",
       "   HEI2015C8_SEAPLANT_PROT  HEI2015C9_FATTYACID  HEI2015C10_SODIUM  \\\n",
       "0                      NaN                  NaN                NaN   \n",
       "1                 2.052399             0.684985           2.297100   \n",
       "2                 0.000000             2.050769           7.369489   \n",
       "3                 1.268648             2.958985           0.000000   \n",
       "4                 4.221442            10.000000           2.845774   \n",
       "\n",
       "   HEI2015C11_REFINEDGRAIN  HEI2015C12_SFAT  HEI2015C13_ADDSUG  \\\n",
       "0                      NaN              NaN                NaN   \n",
       "1                 9.512964         0.438428           3.919226   \n",
       "2                 8.887880         8.186877           9.099088   \n",
       "3                 5.627488         5.863078           5.878686   \n",
       "4                 0.000000        10.000000           9.658507   \n",
       "\n",
       "   HEI2015_TOTAL_SCORE  \n",
       "0                  NaN  \n",
       "1            35.553899  \n",
       "2            63.551696  \n",
       "3            42.886826  \n",
       "4            47.074393  \n",
       "\n",
       "[5 rows x 31 columns]"
      ]
     },
     "execution_count": 6,
     "metadata": {},
     "output_type": "execute_result"
    }
   ],
   "source": [
    "# Merging the databases (SEQN) is the key to join on.\n",
    "dataset = pd.merge(left = demo, right = pag_hei, on = 'SEQN', how = 'left')\n",
    "dataset.head()"
   ]
  },
  {
   "cell_type": "code",
   "execution_count": 62,
   "id": "61079e9a",
   "metadata": {},
   "outputs": [],
   "source": [
    "#Simplifing the dataset to use, let's create new variables.\n",
    "#Variable phq9: is the sum of all survey collumns related to depression DPQ01-DPQ090\n",
    "dataset['PHQ9'] = dataset[['DPQ010', 'DPQ020', 'DPQ030', 'DPQ040', 'DPQ050', 'DPQ060',\n",
    "                           'DPQ070', 'DPQ080', 'DPQ090']].sum(axis = 1, skipna=False )\n",
    "#Variable phq_grp: Is the group of depression symptoms\n",
    "'''\n",
    "0 - ph9 < 5              : (“No Symptoms”)\n",
    "1 - ph9 >= 5 e ph9 < 10  : (“Mild symptoms”)\n",
    "2 - ph9 >= 10            : (“Moderate to Severe Symptoms”)\n",
    "'''\n",
    "labels_number = [0,1,2]\n",
    "labels = ['No Symptoms', 'Mild symptoms', 'Moderate to Severe Symptoms']\n",
    "bins = [-1,4,9,dataset['PHQ9'].max()]\n",
    "dataset['PHQ_GROUP'] = pd.cut(dataset['PHQ9'], labels = labels_number, bins = bins)\n",
    "dataset['PHQ_GROUP_NAME'] = pd.cut(dataset['PHQ9'], labels = labels, bins = bins)"
   ]
  },
  {
   "cell_type": "code",
   "execution_count": 63,
   "id": "8ce605e1",
   "metadata": {},
   "outputs": [],
   "source": [
    "#Let's sum the column HEI2015_TOTAL_SCORE to check the correct sum\n",
    "dataset['HEI2015_TOTAL_SCORE'] = dataset[['HEI2015C1_TOTALVEG',\n",
    "       'HEI2015C2_GREEN_AND_BEAN', 'HEI2015C3_TOTALFRUIT',\n",
    "       'HEI2015C4_WHOLEFRUIT', 'HEI2015C5_WHOLEGRAIN', 'HEI2015C6_TOTALDAIRY',\n",
    "       'HEI2015C7_TOTPROT', 'HEI2015C8_SEAPLANT_PROT', 'HEI2015C9_FATTYACID',\n",
    "       'HEI2015C10_SODIUM', 'HEI2015C11_REFINEDGRAIN', 'HEI2015C12_SFAT',\n",
    "       'HEI2015C13_ADDSUG', 'HEI2015_TOTAL_SCORE']].sum(axis = 1, skipna=False )"
   ]
  },
  {
   "cell_type": "code",
   "execution_count": 64,
   "id": "758cbe08",
   "metadata": {},
   "outputs": [],
   "source": [
    "#Let's reduce the dataset since some variables are not necessary for our study\n",
    "new_dataset = dataset[['SEQN', 'RIAGENDR', 'RIDAGEYR', 'RIDRETH1',\n",
    "       'DMDEDUC', 'INDFMINC', 'PAG_MINW', 'ADHERENCE', 'HEI2015_TOTAL_SCORE',\n",
    "       'PHQ9', 'PHQ_GROUP', 'PHQ_GROUP_NAME']]"
   ]
  },
  {
   "cell_type": "code",
   "execution_count": 65,
   "id": "78212647",
   "metadata": {},
   "outputs": [
    {
     "data": {
      "text/html": [
       "<div>\n",
       "<style scoped>\n",
       "    .dataframe tbody tr th:only-of-type {\n",
       "        vertical-align: middle;\n",
       "    }\n",
       "\n",
       "    .dataframe tbody tr th {\n",
       "        vertical-align: top;\n",
       "    }\n",
       "\n",
       "    .dataframe thead th {\n",
       "        text-align: right;\n",
       "    }\n",
       "</style>\n",
       "<table border=\"1\" class=\"dataframe\">\n",
       "  <thead>\n",
       "    <tr style=\"text-align: right;\">\n",
       "      <th></th>\n",
       "      <th>SEQN</th>\n",
       "      <th>RIAGENDR</th>\n",
       "      <th>RIDAGEYR</th>\n",
       "      <th>RIDRETH1</th>\n",
       "      <th>DMDEDUC</th>\n",
       "      <th>INDFMINC</th>\n",
       "      <th>PAG_MINW</th>\n",
       "      <th>ADHERENCE</th>\n",
       "      <th>HEI2015_TOTAL_SCORE</th>\n",
       "      <th>PHQ9</th>\n",
       "    </tr>\n",
       "  </thead>\n",
       "  <tbody>\n",
       "    <tr>\n",
       "      <th>count</th>\n",
       "      <td>5334.000000</td>\n",
       "      <td>5334.000000</td>\n",
       "      <td>5334.000000</td>\n",
       "      <td>5334.000000</td>\n",
       "      <td>5334.000000</td>\n",
       "      <td>5287.000000</td>\n",
       "      <td>5334.000000</td>\n",
       "      <td>5334.000000</td>\n",
       "      <td>5060.000000</td>\n",
       "      <td>4836.000000</td>\n",
       "    </tr>\n",
       "    <tr>\n",
       "      <th>mean</th>\n",
       "      <td>36358.796775</td>\n",
       "      <td>1.519873</td>\n",
       "      <td>45.089989</td>\n",
       "      <td>2.871016</td>\n",
       "      <td>3.233221</td>\n",
       "      <td>8.738604</td>\n",
       "      <td>471.765732</td>\n",
       "      <td>1.979753</td>\n",
       "      <td>149.914264</td>\n",
       "      <td>2.848015</td>\n",
       "    </tr>\n",
       "    <tr>\n",
       "      <th>std</th>\n",
       "      <td>2964.731827</td>\n",
       "      <td>0.499652</td>\n",
       "      <td>20.145853</td>\n",
       "      <td>1.128468</td>\n",
       "      <td>1.268395</td>\n",
       "      <td>12.777756</td>\n",
       "      <td>780.352823</td>\n",
       "      <td>0.918364</td>\n",
       "      <td>36.973599</td>\n",
       "      <td>4.018347</td>\n",
       "    </tr>\n",
       "    <tr>\n",
       "      <th>min</th>\n",
       "      <td>31130.000000</td>\n",
       "      <td>1.000000</td>\n",
       "      <td>18.000000</td>\n",
       "      <td>1.000000</td>\n",
       "      <td>1.000000</td>\n",
       "      <td>1.000000</td>\n",
       "      <td>0.000000</td>\n",
       "      <td>1.000000</td>\n",
       "      <td>48.177635</td>\n",
       "      <td>0.000000</td>\n",
       "    </tr>\n",
       "    <tr>\n",
       "      <th>25%</th>\n",
       "      <td>33838.500000</td>\n",
       "      <td>1.000000</td>\n",
       "      <td>27.000000</td>\n",
       "      <td>3.000000</td>\n",
       "      <td>2.000000</td>\n",
       "      <td>4.000000</td>\n",
       "      <td>35.000000</td>\n",
       "      <td>1.000000</td>\n",
       "      <td>123.096868</td>\n",
       "      <td>0.000000</td>\n",
       "    </tr>\n",
       "    <tr>\n",
       "      <th>50%</th>\n",
       "      <td>36347.500000</td>\n",
       "      <td>2.000000</td>\n",
       "      <td>43.000000</td>\n",
       "      <td>3.000000</td>\n",
       "      <td>3.000000</td>\n",
       "      <td>7.000000</td>\n",
       "      <td>210.000000</td>\n",
       "      <td>2.000000</td>\n",
       "      <td>148.537335</td>\n",
       "      <td>1.000000</td>\n",
       "    </tr>\n",
       "    <tr>\n",
       "      <th>75%</th>\n",
       "      <td>38915.750000</td>\n",
       "      <td>2.000000</td>\n",
       "      <td>62.000000</td>\n",
       "      <td>4.000000</td>\n",
       "      <td>4.000000</td>\n",
       "      <td>10.000000</td>\n",
       "      <td>568.931871</td>\n",
       "      <td>3.000000</td>\n",
       "      <td>174.504040</td>\n",
       "      <td>4.000000</td>\n",
       "    </tr>\n",
       "    <tr>\n",
       "      <th>95%</th>\n",
       "      <td>40949.350000</td>\n",
       "      <td>2.000000</td>\n",
       "      <td>81.000000</td>\n",
       "      <td>4.000000</td>\n",
       "      <td>5.000000</td>\n",
       "      <td>11.000000</td>\n",
       "      <td>1863.048499</td>\n",
       "      <td>3.000000</td>\n",
       "      <td>213.578023</td>\n",
       "      <td>11.000000</td>\n",
       "    </tr>\n",
       "    <tr>\n",
       "      <th>99%</th>\n",
       "      <td>41378.680000</td>\n",
       "      <td>2.000000</td>\n",
       "      <td>85.000000</td>\n",
       "      <td>5.000000</td>\n",
       "      <td>5.000000</td>\n",
       "      <td>99.000000</td>\n",
       "      <td>3672.055427</td>\n",
       "      <td>3.000000</td>\n",
       "      <td>239.574993</td>\n",
       "      <td>18.000000</td>\n",
       "    </tr>\n",
       "    <tr>\n",
       "      <th>max</th>\n",
       "      <td>41473.000000</td>\n",
       "      <td>2.000000</td>\n",
       "      <td>85.000000</td>\n",
       "      <td>5.000000</td>\n",
       "      <td>9.000000</td>\n",
       "      <td>99.000000</td>\n",
       "      <td>10777.829099</td>\n",
       "      <td>3.000000</td>\n",
       "      <td>268.588148</td>\n",
       "      <td>42.000000</td>\n",
       "    </tr>\n",
       "  </tbody>\n",
       "</table>\n",
       "</div>"
      ],
      "text/plain": [
       "               SEQN     RIAGENDR     RIDAGEYR     RIDRETH1      DMDEDUC  \\\n",
       "count   5334.000000  5334.000000  5334.000000  5334.000000  5334.000000   \n",
       "mean   36358.796775     1.519873    45.089989     2.871016     3.233221   \n",
       "std     2964.731827     0.499652    20.145853     1.128468     1.268395   \n",
       "min    31130.000000     1.000000    18.000000     1.000000     1.000000   \n",
       "25%    33838.500000     1.000000    27.000000     3.000000     2.000000   \n",
       "50%    36347.500000     2.000000    43.000000     3.000000     3.000000   \n",
       "75%    38915.750000     2.000000    62.000000     4.000000     4.000000   \n",
       "95%    40949.350000     2.000000    81.000000     4.000000     5.000000   \n",
       "99%    41378.680000     2.000000    85.000000     5.000000     5.000000   \n",
       "max    41473.000000     2.000000    85.000000     5.000000     9.000000   \n",
       "\n",
       "          INDFMINC      PAG_MINW    ADHERENCE  HEI2015_TOTAL_SCORE  \\\n",
       "count  5287.000000   5334.000000  5334.000000          5060.000000   \n",
       "mean      8.738604    471.765732     1.979753           149.914264   \n",
       "std      12.777756    780.352823     0.918364            36.973599   \n",
       "min       1.000000      0.000000     1.000000            48.177635   \n",
       "25%       4.000000     35.000000     1.000000           123.096868   \n",
       "50%       7.000000    210.000000     2.000000           148.537335   \n",
       "75%      10.000000    568.931871     3.000000           174.504040   \n",
       "95%      11.000000   1863.048499     3.000000           213.578023   \n",
       "99%      99.000000   3672.055427     3.000000           239.574993   \n",
       "max      99.000000  10777.829099     3.000000           268.588148   \n",
       "\n",
       "              PHQ9  \n",
       "count  4836.000000  \n",
       "mean      2.848015  \n",
       "std       4.018347  \n",
       "min       0.000000  \n",
       "25%       0.000000  \n",
       "50%       1.000000  \n",
       "75%       4.000000  \n",
       "95%      11.000000  \n",
       "99%      18.000000  \n",
       "max      42.000000  "
      ]
     },
     "execution_count": 65,
     "metadata": {},
     "output_type": "execute_result"
    }
   ],
   "source": [
    "new_dataset.describe(percentiles=[0.25, 0.50, 0.75, 0.95, 0.99])"
   ]
  },
  {
   "cell_type": "code",
   "execution_count": 66,
   "id": "6db80149",
   "metadata": {
    "scrolled": true
   },
   "outputs": [
    {
     "data": {
      "text/plain": [
       "SEQN                   0.00\n",
       "RIAGENDR               0.00\n",
       "RIDAGEYR               0.00\n",
       "RIDRETH1               0.00\n",
       "DMDEDUC                0.00\n",
       "INDFMINC               0.88\n",
       "PAG_MINW               0.00\n",
       "ADHERENCE              0.00\n",
       "HEI2015_TOTAL_SCORE    5.14\n",
       "PHQ9                   9.34\n",
       "PHQ_GROUP              9.34\n",
       "PHQ_GROUP_NAME         9.34\n",
       "dtype: float64"
      ]
     },
     "execution_count": 66,
     "metadata": {},
     "output_type": "execute_result"
    }
   ],
   "source": [
    "#Let's check the sum of null variables\n",
    "new_dataset.isnull().mean().round(4)*100"
   ]
  },
  {
   "cell_type": "code",
   "execution_count": 67,
   "id": "a97cf22f",
   "metadata": {
    "scrolled": true
   },
   "outputs": [
    {
     "data": {
      "text/plain": [
       "0       61-More\n",
       "1         41-50\n",
       "2       61-More\n",
       "3       61-More\n",
       "4         18-30\n",
       "         ...   \n",
       "5329      51-60\n",
       "5330    61-More\n",
       "5331      18-30\n",
       "5332      31-40\n",
       "5333      18-30\n",
       "Name: RIDAGEYR_RANGE, Length: 5334, dtype: category\n",
       "Categories (5, object): ['18-30' < '31-40' < '41-50' < '51-60' < '61-More']"
      ]
     },
     "execution_count": 67,
     "metadata": {},
     "output_type": "execute_result"
    }
   ],
   "source": [
    "#Let's create a newvariable for age\n",
    "labels = ['18-30', '31-40', '41-50', '51-60', '61-More']\n",
    "bins = [17,30,40,50,60,new_dataset['RIDAGEYR'].max()]\n",
    "new_dataset['RIDAGEYR_RANGE'] = pd.cut(new_dataset['RIDAGEYR'], labels = labels, bins = bins)\n",
    "new_dataset['RIDAGEYR_RANGE']"
   ]
  },
  {
   "cell_type": "markdown",
   "id": "d51b9d84",
   "metadata": {},
   "source": [
    "### 2 - Univariate analysis and EDA"
   ]
  },
  {
   "cell_type": "code",
   "execution_count": 68,
   "id": "6afd2df6",
   "metadata": {},
   "outputs": [
    {
     "data": {
      "text/plain": [
       "2    0.519873\n",
       "1    0.480127\n",
       "Name: RIAGENDR, dtype: float64"
      ]
     },
     "execution_count": 68,
     "metadata": {},
     "output_type": "execute_result"
    }
   ],
   "source": [
    "new_dataset['RIAGENDR'].value_counts(normalize=True, dropna=False)"
   ]
  },
  {
   "cell_type": "code",
   "execution_count": 69,
   "id": "8090370b",
   "metadata": {},
   "outputs": [
    {
     "data": {
      "text/plain": [
       "18-30      0.314023\n",
       "61-More    0.263967\n",
       "31-40      0.155231\n",
       "41-50      0.148294\n",
       "51-60      0.118485\n",
       "Name: RIDAGEYR_RANGE, dtype: float64"
      ]
     },
     "execution_count": 69,
     "metadata": {},
     "output_type": "execute_result"
    }
   ],
   "source": [
    "new_dataset['RIDAGEYR_RANGE'].value_counts(normalize=True, dropna=False)"
   ]
  },
  {
   "cell_type": "code",
   "execution_count": 70,
   "id": "352c1d73",
   "metadata": {},
   "outputs": [
    {
     "data": {
      "text/plain": [
       "3    0.471691\n",
       "4    0.243720\n",
       "1    0.212411\n",
       "5    0.041432\n",
       "2    0.030746\n",
       "Name: RIDRETH1, dtype: float64"
      ]
     },
     "execution_count": 70,
     "metadata": {},
     "output_type": "execute_result"
    }
   ],
   "source": [
    "new_dataset['RIDRETH1'].value_counts(normalize=True, dropna=False)"
   ]
  },
  {
   "cell_type": "code",
   "execution_count": 71,
   "id": "89198ad8",
   "metadata": {},
   "outputs": [
    {
     "data": {
      "text/plain": [
       "1.0    0.460630\n",
       "2.0    0.261530\n",
       "3.0    0.247844\n",
       "NaN    0.029996\n",
       "Name: INDFMINC_NEW_RANGE, dtype: float64"
      ]
     },
     "execution_count": 71,
     "metadata": {},
     "output_type": "execute_result"
    }
   ],
   "source": [
    "# For income variable, let's reorganize the range for a new range\n",
    "income ={ 1.0 : 1, #0-34999\n",
    "          2.0 : 1,#0-34999\n",
    "          3.0 : 1,#0-34999\n",
    "          4.0 : 1,#0-34999\n",
    "          5.0 : 1,#0-34999\n",
    "          6.0 : 1,#0-34999\n",
    "          7.0 : 2,#35000-64999\n",
    "          8.0 : 2,#35000-64999\n",
    "          9.0 : 2,#35000-64999\n",
    "          10.0 : 3, #65000-More\n",
    "          11.0 : 3,#65000-More\n",
    "          12.0 : 2, #35000-64999\n",
    "          13.0 : 1, #0-34999\n",
    "          77.0 : np.nan, #N/A\n",
    "          99.0 : np.nan} #N/A\n",
    "new_dataset['INDFMINC_NEW_RANGE'] = new_dataset['INDFMINC'].map(income)\n",
    "new_dataset['INDFMINC_NEW_RANGE'].value_counts(normalize=True, dropna=False)"
   ]
  },
  {
   "cell_type": "code",
   "execution_count": 72,
   "id": "ed7e9669",
   "metadata": {},
   "outputs": [],
   "source": [
    "#Creating dictionaries for the qualitative variables\n",
    "survey = { 0.0 : 'None',\n",
    "         1.0 : 'Less than one week',\n",
    "         2.0 : 'One week or more',\n",
    "         3.0 : 'Almost everyday',\n",
    "         7.0 : 'Refused to answer',\n",
    "         9.0 : 'Do not know'}\n",
    "\n",
    "genre = { 1 : 'Male',\n",
    "          2 : 'Female' }\n",
    "\n",
    "race = {1 : 'White',\n",
    "         2 : 'Black',\n",
    "         3 : 'American/Mexican',\n",
    "         4 : 'Other',\n",
    "         5 : 'Other Hispanic'}\n",
    "\n",
    "education = {1 : 'Less than 9 years',\n",
    "                2 : '99 to 12 years',\n",
    "                3 : 'High School',\n",
    "                4 : 'higher degree incomplete',\n",
    "                5 : 'Higher degree or more',\n",
    "                7 : 'Refused to answer',\n",
    "                9 : 'Do not Know'}\n",
    "\n",
    "workout = {1.0 : 'Low', #< 150 min/week\n",
    "             2.0 : 'Appropriate',#150-300 min/week\n",
    "             3.0 : 'High'} #> 300 min/week\n",
    "\n",
    "old_income ={ 1.0 : '0-14999',\n",
    "          2.0 : '5000-9999',\n",
    "          3.0 : '10000-14999',\n",
    "          4.0 : '15000-19999',\n",
    "          5.0 : '20000-24999',\n",
    "          6.0 : '25000-34999',\n",
    "          7.0 : '35000-44999',\n",
    "          8.0 : '45000-54999',\n",
    "          9.0 : '55000-64999',\n",
    "          10.0 : '65000-74999',\n",
    "          11.0 : 'More than 75000',\n",
    "          12.0 : 'More than 20000',\n",
    "          13.0 : 'Less than 20000',\n",
    "          77.0 : 'Refused to answer',\n",
    "          99.0 : 'Do not Know'}\n",
    "new_income ={ 1.0:'0-34999',\n",
    "              2.0:'35000-64999',\n",
    "              3.0:'65000-More'}"
   ]
  },
  {
   "cell_type": "code",
   "execution_count": 73,
   "id": "cb7bc72c",
   "metadata": {},
   "outputs": [
    {
     "data": {
      "text/plain": [
       "count     5334.000000\n",
       "mean       471.765732\n",
       "std        780.352823\n",
       "min          0.000000\n",
       "25%         35.000000\n",
       "50%        210.000000\n",
       "75%        568.931871\n",
       "95%       1863.048499\n",
       "99%       3672.055427\n",
       "max      10777.829099\n",
       "Name: PAG_MINW, dtype: float64"
      ]
     },
     "execution_count": 73,
     "metadata": {},
     "output_type": "execute_result"
    }
   ],
   "source": [
    "new_dataset['PAG_MINW'].describe(percentiles=[0.25,0.50,0.75,0.95,0.99])"
   ]
  },
  {
   "cell_type": "code",
   "execution_count": 74,
   "id": "f8745e86",
   "metadata": {},
   "outputs": [
    {
     "data": {
      "text/plain": [
       "count    5281.000000\n",
       "mean      423.317872\n",
       "std       586.463559\n",
       "min         0.000000\n",
       "25%        32.332564\n",
       "50%       207.852194\n",
       "75%       554.272517\n",
       "95%      1695.115473\n",
       "99%      2845.136259\n",
       "max      3672.055427\n",
       "Name: PAG_MINW, dtype: float64"
      ]
     },
     "execution_count": 74,
     "metadata": {},
     "output_type": "execute_result"
    }
   ],
   "source": [
    "#We can see this variable has outliers, because the max value is 10777 Minutes since a whole week has 10080 minutes.\n",
    "# Let's filter the variable considering 99% of the population 3675 minutes per week\n",
    "new_dataset[new_dataset['PAG_MINW'] < 3675]['PAG_MINW'].describe(percentiles=[0.25,0.50,0.75,0.95,0.99])"
   ]
  },
  {
   "cell_type": "code",
   "execution_count": 75,
   "id": "c8c6bb79",
   "metadata": {},
   "outputs": [],
   "source": [
    "#Let's create a new variable considering the values above\n",
    "new_dataset['PAG_MINW_NO_OUTLIERS'] = new_dataset[new_dataset['PAG_MINW'] < 3675]['PAG_MINW']"
   ]
  },
  {
   "cell_type": "code",
   "execution_count": 76,
   "id": "44cfd43d",
   "metadata": {},
   "outputs": [
    {
     "data": {
      "text/plain": [
       "SEQN                       int64\n",
       "RIAGENDR                   int64\n",
       "RIDAGEYR                   int64\n",
       "RIDRETH1                   int64\n",
       "DMDEDUC                    int64\n",
       "INDFMINC                 float64\n",
       "PAG_MINW                 float64\n",
       "ADHERENCE                float64\n",
       "HEI2015_TOTAL_SCORE      float64\n",
       "PHQ9                     float64\n",
       "PHQ_GROUP               category\n",
       "PHQ_GROUP_NAME          category\n",
       "RIDAGEYR_RANGE          category\n",
       "INDFMINC_NEW_RANGE       float64\n",
       "PAG_MINW_NO_OUTLIERS     float64\n",
       "dtype: object"
      ]
     },
     "execution_count": 76,
     "metadata": {},
     "output_type": "execute_result"
    }
   ],
   "source": [
    "new_dataset.dtypes"
   ]
  },
  {
   "cell_type": "code",
   "execution_count": 77,
   "id": "4fd5f11f",
   "metadata": {},
   "outputs": [
    {
     "data": {
      "text/plain": [
       "count    5060.000000\n",
       "mean      149.914264\n",
       "std        36.973599\n",
       "min        48.177635\n",
       "25%       123.096868\n",
       "50%       148.537335\n",
       "75%       174.504040\n",
       "95%       213.578023\n",
       "99%       239.574993\n",
       "max       268.588148\n",
       "Name: HEI2015_TOTAL_SCORE, dtype: float64"
      ]
     },
     "execution_count": 77,
     "metadata": {},
     "output_type": "execute_result"
    }
   ],
   "source": [
    "new_dataset['HEI2015_TOTAL_SCORE'].describe(percentiles=[0.25,0.50,0.75,0.95,0.99])"
   ]
  },
  {
   "cell_type": "code",
   "execution_count": 78,
   "id": "64db05fa",
   "metadata": {
    "scrolled": false
   },
   "outputs": [
    {
     "data": {
      "text/plain": [
       "count    4836.000000\n",
       "mean        2.848015\n",
       "std         4.018347\n",
       "min         0.000000\n",
       "25%         0.000000\n",
       "50%         1.000000\n",
       "75%         4.000000\n",
       "95%        11.000000\n",
       "99%        18.000000\n",
       "max        42.000000\n",
       "Name: PHQ9, dtype: float64"
      ]
     },
     "execution_count": 78,
     "metadata": {},
     "output_type": "execute_result"
    }
   ],
   "source": [
    "new_dataset['PHQ9'].describe(percentiles=[0.25,0.50,0.75,0.95,0.99])"
   ]
  },
  {
   "cell_type": "code",
   "execution_count": 79,
   "id": "7974a1ca",
   "metadata": {},
   "outputs": [],
   "source": [
    "#Let's export the treated database\n",
    "new_dataset.to_csv('data/dataset.csv', index=False, sep = ',')"
   ]
  },
  {
   "cell_type": "markdown",
   "id": "2f86362c",
   "metadata": {},
   "source": [
    "All treatments and verification are concluded let's plot some histograns for each variable we would like to include in the hypotesis tests"
   ]
  },
  {
   "cell_type": "code",
   "execution_count": 80,
   "id": "fdebbf23",
   "metadata": {},
   "outputs": [],
   "source": [
    "quantitative_variables = ['PHQ9','HEI2015_TOTAL_SCORE','PAG_MINW','PAG_MINW_NO_OUTLIERS']\n",
    "qualitative_variables =['RIAGENDR','RIDAGEYR','RIDRETH1','DMDEDUC','INDFMINC']"
   ]
  },
  {
   "cell_type": "code",
   "execution_count": 81,
   "id": "a387fa07",
   "metadata": {},
   "outputs": [
    {
     "data": {
      "image/png": "[encoded data removed]",
      "text/plain": [
       "<Figure size 1080x288 with 4 Axes>"
      ]
     },
     "metadata": {
      "needs_background": "light"
     },
     "output_type": "display_data"
    },
    {
     "data": {
      "image/png": "[encoded data removed]",
      "text/plain": [
       "<Figure size 1080x288 with 5 Axes>"
      ]
     },
     "metadata": {
      "needs_background": "light"
     },
     "output_type": "display_data"
    }
   ],
   "source": [
    "#Creating histogram plots for all variables will be used \n",
    "plt.subplots(figsize=(15,4))\n",
    "for i in range(len(quantitative_variables)):\n",
    "    plt.subplot(1,6,i+1)\n",
    "    plt.hist(new_dataset[quantitative_variables[i]], bins = 50, label = quantitative_variables[i])\n",
    "    plt.xlabel(quantitative_variables[i])\n",
    "plt.tight_layout() \n",
    "plt.show()\n",
    "plt.subplots(figsize=(15,4))\n",
    "for i in range(len(qualitative_variables)):\n",
    "    plt.subplot(1,5,i+1)\n",
    "    plt.hist(new_dataset[qualitative_variables[i]], bins = 50, label = qualitative_variables[i])\n",
    "    plt.xlabel(qualitative_variables[i])\n",
    "plt.tight_layout() \n",
    "plt.show()"
   ]
  },
  {
   "cell_type": "code",
   "execution_count": 82,
   "id": "fff33402",
   "metadata": {},
   "outputs": [],
   "source": [
    "# We can see that most variables are not normal, let's do some treatment using Log to normalize the variables.\n",
    "# HEI2015_TOTAL_SCORE will dismissed since is already normal\n",
    "quantitative_variables = ['PHQ9','PAG_MINW','PAG_MINW_NO_OUTLIERS']\n",
    "for variable in quantitative_variables:\n",
    "    new_dataset[variable+'_LOG'] = np.log(new_dataset[variable]+1)"
   ]
  },
  {
   "cell_type": "code",
   "execution_count": 83,
   "id": "bfc44cc6",
   "metadata": {
    "scrolled": false
   },
   "outputs": [
    {
     "data": {
      "image/png": "[encoded data removed]",
      "text/plain": [
       "<Figure size 1080x288 with 4 Axes>"
      ]
     },
     "metadata": {
      "needs_background": "light"
     },
     "output_type": "display_data"
    }
   ],
   "source": [
    "#Creating new histogram plots for all variables will be used \n",
    "quantitative_variables = ['PHQ9_LOG','HEI2015_TOTAL_SCORE','PAG_MINW_LOG','PAG_MINW_NO_OUTLIERS_LOG']\n",
    "plt.subplots(figsize=(15,4))\n",
    "for i in range(len(quantitative_variables)):\n",
    "    plt.subplot(1,6,i+1)\n",
    "    plt.hist(new_dataset[quantitative_variables[i]], bins = 50, label = quantitative_variables[i])\n",
    "    plt.xlabel(quantitative_variables[i])\n",
    "plt.tight_layout() \n",
    "plt.show()"
   ]
  },
  {
   "cell_type": "markdown",
   "id": "15a75d8d",
   "metadata": {},
   "source": [
    "### 3 - Bivariate analysis and statistical inference"
   ]
  },
  {
   "cell_type": "markdown",
   "id": "d7970b86",
   "metadata": {},
   "source": [
    "### 1st. Test: "
   ]
  },
  {
   "cell_type": "markdown",
   "id": "3629c96b",
   "metadata": {},
   "source": [
    "<b>H0: There is no difference between men and women for the degree of depression groups</b>"
   ]
  },
  {
   "cell_type": "code",
   "execution_count": 84,
   "id": "84c07b7f",
   "metadata": {},
   "outputs": [
    {
     "data": {
      "image/png": "[encoded data removed]",
      "text/plain": [
       "<Figure size 720x432 with 1 Axes>"
      ]
     },
     "metadata": {
      "needs_background": "light"
     },
     "output_type": "display_data"
    }
   ],
   "source": [
    "#Boxplot for analyse genre versus degree of depression\n",
    "ax = sns.boxplot(x = new_dataset['RIAGENDR'].map(genre), y = 'PHQ9', data = new_dataset)\n",
    "plt.xticks(rotation = 30, fontsize = 10)\n",
    "plt.yticks(fontsize = 10)\n",
    "ax.set_ylabel('Degree of depression symptoms', fontsize = 10)\n",
    "ax.set_xlabel('Genre', fontsize = 10)\n",
    "ax.set_title('Boxplot for genre versus degree of depression', fontsize = 16, loc = 'left')\n",
    "plt.grid(visible = True, axis = 'y', alpha = 0.4)\n",
    "ax.figure.set_size_inches (10,6)\n",
    "index = ['less than 5', '5 to 9', '10 to 14', '15 to 18', '19 to higher']\n",
    "definitions = ['No Symptoms','Mild symptoms', 'Moderate symptoms', 'Moderately severe symptoms', 'Severe symptoms']\n",
    "table = pd.DataFrame(index = index, data = definitions, columns=['Definition'])\n",
    "plt.table(cellText=table.values,\n",
    "          rowLabels=table.index,\n",
    "          colLabels=table.columns,\n",
    "          cellLoc = 'center', rowLoc = 'center',\n",
    "          loc='right', bbox=[1.2,.0,.3,.5])\n",
    "ax = ax"
   ]
  },
  {
   "cell_type": "code",
   "execution_count": 86,
   "id": "8b05478f",
   "metadata": {
    "scrolled": false
   },
   "outputs": [
    {
     "name": "stdout",
     "output_type": "stream",
     "text": [
      "Stats: -7.02 and P-Value:2.4776114071e-12\n"
     ]
    }
   ],
   "source": [
    "#We will use the T-test since we have only two variables to test but it was possible to use one way ANOVA\n",
    "stats, p_value = ttest_ind(new_dataset[new_dataset['RIAGENDR'] == 1]['PHQ9'].dropna(),\n",
    "                           new_dataset[new_dataset['RIAGENDR'] == 2]['PHQ9'].dropna())\n",
    "print(f'Stats: {stats.round(2)} and P-Value:{p_value.round(22)}')"
   ]
  },
  {
   "cell_type": "markdown",
   "id": "34f9e6ca",
   "metadata": {},
   "source": [
    "Considering Male and Female groups for the degree of depression statisticaly we have diferences, so we can considerer we have evidency to reject the null hypotesis where men and women are different for depression symptoms because P-value is less than 0.05."
   ]
  },
  {
   "cell_type": "markdown",
   "id": "8a086621",
   "metadata": {},
   "source": [
    "### 2nd. Test: "
   ]
  },
  {
   "cell_type": "markdown",
   "id": "e86ed4f2",
   "metadata": {},
   "source": [
    "<b>H0: There is no difference between the degree of depression groups in mean of age</b>"
   ]
  },
  {
   "cell_type": "code",
   "execution_count": 87,
   "id": "a7d875f3",
   "metadata": {},
   "outputs": [
    {
     "data": {
      "image/png": "[encoded data removed]",
      "text/plain": [
       "<Figure size 720x432 with 1 Axes>"
      ]
     },
     "metadata": {
      "needs_background": "light"
     },
     "output_type": "display_data"
    }
   ],
   "source": [
    "#Boxplot for analyse age versus degree of depression\n",
    "ax = sns.boxplot(y = new_dataset['RIDAGEYR'], x = 'PHQ_GROUP_NAME', data = new_dataset)\n",
    "plt.xticks(rotation = 30, fontsize = 10)\n",
    "plt.yticks(fontsize = 10)\n",
    "ax.set_ylabel('Age', fontsize = 10)\n",
    "ax.set_xlabel('Degree of depression symptoms', fontsize = 10)\n",
    "ax.set_title('Boxplot for Age versus degree of depression', fontsize = 16, loc = 'left')\n",
    "plt.grid(visible = True, axis = 'y', alpha = 0.4)\n",
    "ax.figure.set_size_inches (10,6)\n",
    "ax = ax"
   ]
  },
  {
   "cell_type": "code",
   "execution_count": 89,
   "id": "ed23e170",
   "metadata": {
    "scrolled": true
   },
   "outputs": [
    {
     "name": "stdout",
     "output_type": "stream",
     "text": [
      "Stats: 3.11 and P-Value:0.04483\n"
     ]
    }
   ],
   "source": [
    "#We will use the F-Oneway ANOVA since we have more two variables to test\n",
    "stats, p_value = f_oneway( new_dataset[new_dataset['PHQ_GROUP'] == 0]['RIDAGEYR'].dropna(),\n",
    "                           new_dataset[new_dataset['PHQ_GROUP'] == 1]['RIDAGEYR'].dropna(),\n",
    "                           new_dataset[new_dataset['PHQ_GROUP'] == 2]['RIDAGEYR'].dropna()\n",
    "                          )                          \n",
    "print(f'Stats: {stats.round(2)} and P-Value:{p_value.round(5)}')"
   ]
  },
  {
   "cell_type": "markdown",
   "id": "52b66d4d",
   "metadata": {},
   "source": [
    "Considering the degree of depression groups in the mean ages, statisticaly we do not have diferences, so we cannot considerer that we have evidency to reject the null hypotesis because P-value is more than 0.05."
   ]
  },
  {
   "cell_type": "markdown",
   "id": "9164b29c",
   "metadata": {},
   "source": [
    "### 3rd. Test:"
   ]
  },
  {
   "cell_type": "markdown",
   "id": "c0d144d3",
   "metadata": {},
   "source": [
    "<b>H0: There is no difference between the degree of depression groups and weekly total workout minutes</b>"
   ]
  },
  {
   "cell_type": "code",
   "execution_count": 90,
   "id": "7aba88a5",
   "metadata": {},
   "outputs": [
    {
     "data": {
      "image/png": "[encoded data removed]",
      "text/plain": [
       "<Figure size 720x432 with 1 Axes>"
      ]
     },
     "metadata": {
      "needs_background": "light"
     },
     "output_type": "display_data"
    }
   ],
   "source": [
    "#Boxplot for analyse weekly total workout minutes versus degree of depression\n",
    "ax = sns.boxplot(y = new_dataset['PAG_MINW_NO_OUTLIERS_LOG'], x = 'PHQ_GROUP_NAME', data = new_dataset)\n",
    "plt.xticks(rotation = 30, fontsize = 10)\n",
    "plt.yticks(fontsize = 10)\n",
    "ax.set_ylabel('Weekly total workout time (Min)', fontsize = 10)\n",
    "ax.set_xlabel('Degree of depression symptoms', fontsize = 10)\n",
    "ax.set_title('Boxplot for Weekly total workout time versus degree of depression', fontsize = 16, loc = 'left')\n",
    "plt.grid(visible = True, axis = 'y', alpha = 0.4)\n",
    "ax.figure.set_size_inches (10,6)\n",
    "ax = ax"
   ]
  },
  {
   "cell_type": "code",
   "execution_count": 92,
   "id": "c662ca89",
   "metadata": {},
   "outputs": [
    {
     "name": "stdout",
     "output_type": "stream",
     "text": [
      "Stats: 45.7 and P-Value:2.18e-20\n"
     ]
    }
   ],
   "source": [
    "#We will use the F-Oneway ANOVA since we have more two variables to test\n",
    "df = new_dataset[['PHQ_GROUP', 'PAG_MINW_NO_OUTLIERS_LOG']].dropna()\n",
    "stats, p_value = f_oneway( df[df['PHQ_GROUP'] == 0]['PAG_MINW_NO_OUTLIERS_LOG'],\n",
    "                           df[df['PHQ_GROUP'] == 1]['PAG_MINW_NO_OUTLIERS_LOG'],\n",
    "                           df[df['PHQ_GROUP'] == 2]['PAG_MINW_NO_OUTLIERS_LOG'],\n",
    "                          )                          \n",
    "print(f'Stats: {stats.round(2)} and P-Value:{p_value.round(22)}')"
   ]
  },
  {
   "cell_type": "markdown",
   "id": "a2f831c4",
   "metadata": {},
   "source": [
    "Considering the groups for the degree of depression versus the weekly workout minutes, statisticaly we have diferences, so we can considerer that we have evidency to reject the null hypotesis because P-value is less than 0.05."
   ]
  },
  {
   "cell_type": "code",
   "execution_count": 94,
   "id": "c998fb87",
   "metadata": {},
   "outputs": [
    {
     "name": "stdout",
     "output_type": "stream",
     "text": [
      "Multiple Comparison of Means - Tukey HSD, FWER=0.05 \n",
      "====================================================\n",
      "group1 group2 meandiff p-adj   lower   upper  reject\n",
      "----------------------------------------------------\n",
      "     0      1  -0.2877 0.0089 -0.5163 -0.0592   True\n",
      "     0      2  -1.2827    0.0 -1.6037 -0.9616   True\n",
      "     1      2  -0.9949    0.0 -1.3676 -0.6222   True\n",
      "----------------------------------------------------\n"
     ]
    }
   ],
   "source": [
    "tukey = pairwise_tukeyhsd(df['PAG_MINW_NO_OUTLIERS_LOG'], df['PHQ_GROUP'], alpha = 0.05)\n",
    "\n",
    "print(tukey)"
   ]
  },
  {
   "cell_type": "markdown",
   "id": "3017bb81",
   "metadata": {},
   "source": [
    "<b>Legend for the group of depression:</b><br><br>\n",
    "0 : No Symptoms<br>\n",
    "1 : Mild symptoms<br>\n",
    "2 : Moderate to Severe symptoms"
   ]
  },
  {
   "cell_type": "markdown",
   "id": "2ce8ac44",
   "metadata": {},
   "source": [
    "- The more you exercise the less stress symptoms you have as shown on Tukey comparision. All comparions for no symptoms and mild symptoms mean that more minutes of daily workout reduce the symptoms, except for moderate versus moderately severe symptoms and moderately severe symptoms versus severe which shown us P-value > 0.05 wich means that daily workout does not change the symptoms<br>\n",
    "<b>As a conclusion we have statistical evidences to say that people with no symptoms workout more than people with higher symptoms of depression.</b>"
   ]
  },
  {
   "cell_type": "markdown",
   "id": "4ecff701",
   "metadata": {},
   "source": [
    "### 4th. Test:"
   ]
  },
  {
   "cell_type": "markdown",
   "id": "e5ad32fa",
   "metadata": {},
   "source": [
    "<b>H0: There is no difference between the degree of depression groups and healthy eating habits</b>"
   ]
  },
  {
   "cell_type": "code",
   "execution_count": 95,
   "id": "a2b72192",
   "metadata": {},
   "outputs": [
    {
     "data": {
      "image/png": "[encoded data removed]",
      "text/plain": [
       "<Figure size 720x432 with 1 Axes>"
      ]
     },
     "metadata": {
      "needs_background": "light"
     },
     "output_type": "display_data"
    }
   ],
   "source": [
    "#Boxplot for analyse healthy eating habits versus degree of depression\n",
    "df = new_dataset[['PHQ_GROUP', 'HEI2015_TOTAL_SCORE', 'PHQ_GROUP_NAME']].dropna()\n",
    "ax = sns.boxplot(y = 'HEI2015_TOTAL_SCORE', x = 'PHQ_GROUP_NAME', data = df)\n",
    "plt.xticks(rotation = 30, fontsize = 10)\n",
    "plt.yticks(fontsize = 10)\n",
    "ax.set_ylabel('Healthy eating habits', fontsize = 10)\n",
    "ax.set_xlabel('Degree of depression symptoms', fontsize = 10)\n",
    "ax.set_title('Boxplot for healthy eating habits versus degree of depression', fontsize = 16, loc = 'left')\n",
    "plt.grid(visible = True, axis = 'y', alpha = 0.4)\n",
    "ax.figure.set_size_inches (10,6)\n",
    "ax = ax"
   ]
  },
  {
   "cell_type": "code",
   "execution_count": 96,
   "id": "19522168",
   "metadata": {},
   "outputs": [
    {
     "name": "stdout",
     "output_type": "stream",
     "text": [
      "Stats: 6.78 and P-Value:0.00115\n"
     ]
    }
   ],
   "source": [
    "#We will use the F-Oneway ANOVA since we have more two variables to test\n",
    "stats, p_value = f_oneway( df[df['PHQ_GROUP'] == 0]['HEI2015_TOTAL_SCORE'],\n",
    "                           df[df['PHQ_GROUP'] == 1]['HEI2015_TOTAL_SCORE'],\n",
    "                           df[df['PHQ_GROUP'] == 2]['HEI2015_TOTAL_SCORE']\n",
    "                          )                          \n",
    "print(f'Stats: {stats.round(2)} and P-Value:{p_value.round(5)}')"
   ]
  },
  {
   "cell_type": "code",
   "execution_count": 97,
   "id": "3c949472",
   "metadata": {
    "scrolled": true
   },
   "outputs": [
    {
     "name": "stdout",
     "output_type": "stream",
     "text": [
      " Multiple Comparison of Means - Tukey HSD, FWER=0.05 \n",
      "=====================================================\n",
      "group1 group2 meandiff p-adj   lower    upper  reject\n",
      "-----------------------------------------------------\n",
      "     0      1  -3.8015 0.0347  -7.3882 -0.2148   True\n",
      "     0      2  -6.4539 0.0083 -11.5414 -1.3664   True\n",
      "     1      2  -2.6524 0.5419  -8.5443  3.2395  False\n",
      "-----------------------------------------------------\n"
     ]
    }
   ],
   "source": [
    "tukey = pairwise_tukeyhsd(df['HEI2015_TOTAL_SCORE'], df['PHQ_GROUP'], alpha = 0.05)\n",
    "\n",
    "print(tukey)"
   ]
  },
  {
   "cell_type": "markdown",
   "id": "5f65a153",
   "metadata": {},
   "source": [
    "- The more healthier you eat the less stress symptoms you have as shown on Tukey comparision. All comparions for no symptoms mean that health eating habits reduce the symptoms of depression, except for moderate versus severe symptoms which shown us P-value > 0.05 wich means that healthier eating habits does not affect the symptoms<br>\n",
    "<b>As a conclusion we have statistical evidences to say that people with no symptoms have healthier eating habits than people with moderate to severe symptoms o.</b>"
   ]
  },
  {
   "cell_type": "code",
   "execution_count": null,
   "id": "307aaebb",
   "metadata": {},
   "outputs": [],
   "source": []
  }
 ],
 "metadata": {
  "kernelspec": {
   "display_name": "Python 3 (ipykernel)",
   "language": "python",
   "name": "python3"
  },
  "language_info": {
   "codemirror_mode": {
    "name": "ipython",
    "version": 3
   },
   "file_extension": ".py",
   "mimetype": "text/x-python",
   "name": "python",
   "nbconvert_exporter": "python",
   "pygments_lexer": "ipython3",
   "version": "3.9.7"
  }
 },
 "nbformat": 4,
 "nbformat_minor": 5
}
